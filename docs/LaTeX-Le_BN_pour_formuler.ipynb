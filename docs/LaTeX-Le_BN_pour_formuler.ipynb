{
 "cells": [
  {
   "cell_type": "markdown",
   "metadata": {
    "slideshow": {
     "slide_type": "slide"
    }
   },
   "source": [
    "# Le Bloc Note pour formuler"
   ]
  },
  {
   "cell_type": "markdown",
   "metadata": {
    "slideshow": {
     "slide_type": "subslide"
    }
   },
   "source": [
    "Dans un notebook jupyter on peut rédiger des commentaires en langage naturel, intégrer des liens hypertextes et des images dans des cellules de type **`Markdown`**."
   ]
  },
  {
   "cell_type": "markdown",
   "metadata": {
    "slideshow": {
     "slide_type": "fragment"
    }
   },
   "source": [
    "***  \n",
    "> Ce document est un notebook jupyter, pour bien vous familiariser avec cet environnement regardez cette rapide [Introduction](Introduction-Le_BN_pour_explorer.ipynb).  \n",
    "\n",
    "***"
   ]
  },
  {
   "cell_type": "markdown",
   "metadata": {
    "slideshow": {
     "slide_type": "subslide"
    }
   },
   "source": [
    "$\\LaTeX{}$, prononcez \"LaTèque\" est un langage de description à balisage dédié à l'édition et la publication de rapports scientifiques avec une typographie irréprochable.  \n",
    "Dans les cellules de type **`Markdown`** d'un jupyter notebook, il est possible d'intégrer des éléments codés en $\\LaTeX{}$ grace à la librairie JavaScript [Mathjax](https://www.mathjax.org/) embarquée.  \n",
    "Il est hors de propos de ce Bloc Note de tout couvrir, mais nous allons passer en revue les bases de l'écriture d'équations mathématiques de haute qualité en utilisant $\\LaTeX{}$."
   ]
  },
  {
   "cell_type": "markdown",
   "metadata": {
    "slideshow": {
     "slide_type": "fragment"
    }
   },
   "source": [
    "> <h3 class='fa fa-cogs' style=\"color: darkorange\"> A faire vous-même </h3>\n",
    ">\n",
    "> Pour voir le résultat du code $\\LaTeX{}$ basculer le type des cellules ci-dessous du type **`Code`** en **`Markdown`**, puis appuyer sur le bouton <button class='fa fa-step-forward icon-step-forward btn btn-xs btn-default'></button> ou sur les touches **`<Maj+Entree>`** ."
   ]
  },
  {
   "cell_type": "markdown",
   "metadata": {},
   "source": [
    "## Principe"
   ]
  },
  {
   "cell_type": "markdown",
   "metadata": {},
   "source": [
    "On peut inclure un code $\\LaTeX{}$ en ligne comme ceci : $y = x^2$"
   ]
  },
  {
   "cell_type": "markdown",
   "metadata": {},
   "source": [
    "ou en bloc comme ça : $$y = x^2$$"
   ]
  },
  {
   "cell_type": "markdown",
   "metadata": {},
   "source": [
    "## Opérations Arythmétiques"
   ]
  },
  {
   "cell_type": "code",
   "execution_count": null,
   "metadata": {},
   "outputs": [],
   "source": [
    "* Addition :\n",
    "    * $x + y$\n",
    "* Soustraction :\n",
    "    * $x - y$\n",
    "* Multiplication :\n",
    "    * $x \\times y$ \n",
    "* Division :\n",
    "    * $x \\div y$\n",
    "    * $x \\over y$\n",
    "* Puissance :\n",
    "    * $x^2$\n",
    "    * $y^{(x-1)}$"
   ]
  },
  {
   "cell_type": "markdown",
   "metadata": {},
   "source": [
    "## Relations"
   ]
  },
  {
   "cell_type": "code",
   "execution_count": null,
   "metadata": {},
   "outputs": [],
   "source": [
    "* $\\pi \\approx 3.14159$\n",
    "* $1 \\neq 2$\n",
    "* $0 < 1$\n",
    "* $2 > 1$\n",
    "* $x \\leq 2$\n",
    "* $x \\geq 1$"
   ]
  },
  {
   "cell_type": "markdown",
   "metadata": {},
   "source": [
    "## Indice"
   ]
  },
  {
   "cell_type": "code",
   "execution_count": null,
   "metadata": {},
   "outputs": [],
   "source": [
    "$$U_n = 3 \\times U_{n-1}+2$$"
   ]
  },
  {
   "cell_type": "markdown",
   "metadata": {},
   "source": [
    "## Fractions"
   ]
  },
  {
   "cell_type": "code",
   "execution_count": null,
   "metadata": {},
   "outputs": [],
   "source": [
    "* $\\frac{1}{2x}$\n",
    "* ${3 \\over 4}$\n",
    "* $^1/_2$"
   ]
  },
  {
   "cell_type": "markdown",
   "metadata": {},
   "source": [
    "## Racine"
   ]
  },
  {
   "cell_type": "code",
   "execution_count": null,
   "metadata": {},
   "outputs": [],
   "source": [
    "$$f(x) = \\sqrt[3]{2x} + \\sqrt{x-2}$$"
   ]
  },
  {
   "cell_type": "markdown",
   "metadata": {},
   "source": [
    "## Alphabet Grec"
   ]
  },
  {
   "cell_type": "code",
   "execution_count": null,
   "metadata": {},
   "outputs": [],
   "source": [
    "|         | Small Letter          | Capical Letter       | Alervative                  |\n",
    "|---------| --------------------- | -------------------- | --------------------------- |\n",
    "| alpha   | $\\alpha$              | $A$                  |                             |\n",
    "| beta    | $\\beta$               | $B$                  |                             |\n",
    "| gamma   | $\\gamma$              | $\\Gamma$             |                             |\n",
    "| delta   | $\\delta$              | $\\Delta$             |                             |\n",
    "| epsilon | $\\epsilon$            | $E$                  | $\\varepsilon$               |\n",
    "| zeta    | $\\zeta$               | $Z$                  |                             |\n",
    "| eta     | $\\eta$                | $H$                  |                             |\n",
    "| theta   | $\\theta$              | $\\Theta$             | $\\vartheta$                 |\n",
    "| iota    | $\\iota$               | $I$                  |                             |\n",
    "| kappa   | $\\kappa$              | $K$                  | $\\varkappa$                 |\n",
    "| lambda  | $\\lambda$             | $\\Lambda$            |                             |\n",
    "| mu      | $\\mu$                 | $M$                  |                             |\n",
    "| nu      | $\\nu$                 | $N$                  |                             |\n",
    "| xi      | $\\xi$                 | $Xi$                 |                             |\n",
    "| omicron | $\\omicron$            | $O$                  |                             |\n",
    "| pi      | $\\pi$                 | $\\Pi$                | $\\varpi$                    |\n",
    "| rho     | $\\rho$                | $P$                  | $\\varrho$                   |\n",
    "| sigma   | $\\sigma$              | $\\Sigma$             | $\\varsigma$                 |\n",
    "| tau     | $\\tau$                | $T$                  |                             |\n",
    "| upsilon | $\\upsilon$            | $\\Upsilon$           |                             |\n",
    "| phi     | $\\phi$                | $\\Phi$               | $\\varphi$                   |\n",
    "| chi     | $\\chi$                | $X$                  |                             |\n",
    "| psi     | $\\psi$                | $\\Psi$               |                             |\n",
    "| omega   | $\\omega$              | $\\Omega$             |                             |"
   ]
  },
  {
   "cell_type": "markdown",
   "metadata": {
    "slideshow": {
     "slide_type": "fragment"
    }
   },
   "source": [
    "<!--\n",
    "\n",
    "To represent a log use `\\log[base]` where `base` is the base of the logarithmic term.\n",
    "\n",
    "$$\\log[x] x = 1$$\n",
    "\n",
    "\n",
    "\n",
    "##Sums & Products\n",
    "\n",
    "You can represent a sum with a sigma using `\\sum\\limits_{a}^{b}` where a and b are the lower and higher limits of the sum.\n",
    "\n",
    "$$\\sum\\limits_{x=1}^{\\infty} {1 \\over x} = 2$$\n",
    "\n",
    "Also you can represent a product with `\\prod\\limits_{a}^{a}` where a and b are the lower and higher limits.\n",
    "\n",
    "$$\\prod\\limits_{i=1}^{n} x_i - 1$$\n",
    "\n",
    "**Code:**\n",
    "```\n",
    "$$\\sum\\limits_{x=1}^{\\infty} {1 \\over x} = 2$$\n",
    "$$\\prod\\limits_{i=1}^{n} x_i - 1$$\n",
    "```\n",
    "\n",
    "##Statistics\n",
    "\n",
    "To represent basic concepts in statistics about sample space `S`, you can represent a maximum:\n",
    "\n",
    "$$max(S) = \\max\\limits_{i: S_i \\in S} S_i$$\n",
    "\n",
    "In the same way you can get the minimum:\n",
    "\n",
    "$$min(S) = \\min\\limits_{i: S_i \\in S} S_i$$\n",
    "\n",
    "To represent a [binomial coefficient](http://en.wikipedia.org/wiki/Binomial_coefficient) with n choose k, use the following:\n",
    "\n",
    "$$\\frac{n!}{k!(n-k)!} = {n \\choose k}$$\n",
    "\n",
    "for :\n",
    "\n",
    "**Code:**\n",
    "```\n",
    "$$max(S) = \\max\\limits_{i: x_i \\in \\{S\\}} x_i$$\n",
    "$$min (S) = \\min\\limits_{i: x_i \\in \\{S\\}} x_i$$\n",
    "$$\\frac{n!}{k!(n-k)!} = {n \\choose k}$$\n",
    "```\n",
    "\n",
    "##Calculus\n",
    "\n",
    "Limits are represented using `\\lim\\limits_{x \\to a}` as `x` approaches `a`.\n",
    "\n",
    "$$\\lim\\limits_{x \\to 0^+} {1 \\over 0} = \\infty$$\n",
    "\n",
    "For integral equations use `\\int\\limits_{a}^{b}` where `a` and `b` are the lower and higher limits.\n",
    "\n",
    "$$\\int\\limits_a^b 2x \\, dx$$\n",
    "\n",
    "\n",
    "**Code:**\n",
    "```markdown\n",
    "$$\\lim\\limits_{x \\to 0^+} {1 \\over 0} = \\inf$$\n",
    "$$\\int\\limits_a^b 2x \\, dx$$\n",
    "```\n",
    "\n",
    "##Function definition over periods\n",
    "\n",
    "Defining a function that is calculated differently over a number of period can done using LaTeX. There are a few tricks that we will use to do that:\n",
    "\n",
    "- The large curly bracket `\\left\\{ ... \\right.` Notice it you want to use `(` or `[` you don't have to add a back slash(`\\`). You can also place a right side matching bracket by replacing the `.` after `\\right` like this `.right}`\n",
    "- Array to hold the definitions in place. it has two columns with left alignment. `\\begin{array}{ll} ... \\end{array}`\n",
    "- Line Breaker `\\\\`\n",
    "- Text alignment box ` \\mbox{Text}`\n",
    "\n",
    "$f(x) =\\left\\{\\begin{array}{ll}0  & \\mbox{if } x = 0 \\\\{1 \\over x} & \\mbox{if } x \\neq 0\\end{array}\\right.$\n",
    "\n",
    "**Code:**\n",
    "```\n",
    "$f(x) =\n",
    "\\left\\{\n",
    "\t\\begin{array}{ll}\n",
    "\t\t0  & \\mbox{if } x = 0 \\\\\n",
    "\t\t{1 \\over x} & \\mbox{if } x \\neq 0\n",
    "\t\\end{array}\n",
    "\\right.$\n",
    "```\n",
    "\n",
    "**Note:** If you are planning to show your notebook in NBViewer write your latex code in one line. For example you can write the code above like this:\n",
    "\n",
    "```\n",
    "$f(x) =\\left\\{\\begin{array}{ll}0  & \\mbox{if } x = 0 \\\\{1 \\over x} & \\mbox{if } x \\neq 0\\end{array}\\right.$\n",
    "```\n",
    "\n",
    "#Quick Quiz (Normal Distribution)\n",
    "\n",
    "Try to replicate the [Normal Distribution](http://en.wikipedia.org/wiki/Normal_distribution) formula using LaTeX. If you solve it, leave the LaTeX code in the comments below. $Don't\\ cheat$.\n",
    "\n",
    "$$P(x,\\sigma,\\mu) = \\frac{1}{{\\sigma \\sqrt {2\\pi } }}e^{{-(x - \\mu)^2 } / {2\\sigma ^2}}$$\n",
    "\n",
    "Tips to help with the quiz:\n",
    "\n",
    "- $\\mu$ is `\\mu`\n",
    "- $\\sigma$ is `\\sigma`\n",
    "- $e$ is `e`\n",
    "\n",
    "-->"
   ]
  },
  {
   "cell_type": "markdown",
   "metadata": {},
   "source": [
    "## Algèbre de Boole :"
   ]
  },
  {
   "cell_type": "code",
   "execution_count": null,
   "metadata": {},
   "outputs": [],
   "source": [
    "$$a\\oplus b=\\bar{a}\\cdot b+a\\cdot\\bar{b}$$"
   ]
  },
  {
   "cell_type": "markdown",
   "metadata": {},
   "source": [
    "## Moments et Forces :"
   ]
  },
  {
   "cell_type": "code",
   "execution_count": null,
   "metadata": {},
   "outputs": [],
   "source": [
    "$\\sum\\overrightarrow{M_G(\\overrightarrow{F_{ext \\to S}})}$"
   ]
  },
  {
   "cell_type": "markdown",
   "metadata": {
    "slideshow": {
     "slide_type": "slide"
    }
   },
   "source": [
    "## Ressources :"
   ]
  },
  {
   "cell_type": "markdown",
   "metadata": {},
   "source": [
    "* [LaTeX Wiki](http://en.wikibooks.org/wiki/LaTeX/Mathematics)\n",
    "* [Duke University, Department of  Statistical Science](https://stat.duke.edu/resources/computing/latex)\n",
    "\n",
    "* [Equation Sheet](http://www.equationsheet.com/)\n",
    "\n",
    "* [Editeur d'équation en ligne](http://www.codecogs.com/eqnedit.php?latex=)\n",
    "\n",
    "* [Apprentissage LaTeX en ligne avec ShareLaTeX](http://tsi.si.lycee.ecmorlaix.fr/APprentissageLaTeX/)\n",
    "\n",
    "* Sur le site de Didier MULLER http://www.nymphomath.ch/LaTeX/index.html :\n",
    "    - [Introduction à LaTex, par Fabien Augsburger (pdf, 17 pages)](http://www.nymphomath.ch/LaTeX/IntroLaTeX.pdf)\n",
    "    - [Apprends LaTeX, par Marc Baudoin (pdf, 112 pages)](http://www.nymphomath.ch/LaTeX/apprends-latex.pdf)\n",
    "    - [Tout ce que vous avez toujours voulu savoir sur LATEX sans jamais oser le demander (pdf, 338 pages)](http://www.nymphomath.ch/LaTeX/framabook5_latex.pdf)\n",
    "\n",
    "    - [LaTeX pour l'impatient, 4ème édition, Céline Chevalier, H&K, 2016](https://www.amazon.fr/LaTeX-pour-limpatient-Spiral-Bound/dp/235141327X/ref=as_li_ss_tl?__mk_fr_FR=%C3%85M%C3%85%C5%BD%C3%95%C3%91&keywords=latex%2Bpour%2Bl%27impatient&qid=1558529880&s=gateway&sr=8-1-fkmrnull&linkCode=ll1&tag=coyote-21&linkId=210710a1380df1e7df1910e0bc63f40a&language=fr_FR)"
   ]
  },
  {
   "cell_type": "markdown",
   "metadata": {
    "slideshow": {
     "slide_type": "slide"
    }
   },
   "source": [
    "## A vous de jouer :"
   ]
  },
  {
   "cell_type": "markdown",
   "metadata": {
    "slideshow": {
     "slide_type": "fragment"
    }
   },
   "source": [
    "> <h3 class='fa fa-cogs' style=\"color: darkorange\"> A faire vous-même </h3>\n",
    ">\n",
    "> Saisir votre texte balisé en code $\\LaTeX{}$ dans la cellule suivante, jupyter affichera le résultat mis en forme automatiquement..."
   ]
  },
  {
   "cell_type": "code",
   "execution_count": null,
   "metadata": {
    "slideshow": {
     "slide_type": "-"
    }
   },
   "outputs": [],
   "source": []
  },
  {
   "cell_type": "markdown",
   "metadata": {
    "slideshow": {
     "slide_type": "slide"
    }
   },
   "source": [
    "***  \n",
    "> **Félicitations ! ** Vous êtes parvenu au bout des activités de ce bloc note.  \n",
    "> Vous êtes maintenant capable de rédiger en $\\LaTeX{}$ dans l'environnement interactif jupyter notebook.\n",
    "\n",
    "> Pour explorer plus avant d'autres fonctionnalités de jupyter notebook repassez par le [Sommaire](index.ipynb).\n",
    "\n",
    "***"
   ]
  },
  {
   "cell_type": "markdown",
   "metadata": {},
   "source": [
    "## Compléments :\n",
    "\n",
    "Il est possible d'afficher d'autres intructions en $\\LaTeX{}$ avec les objets `Math` et `Latex` du module ``Ipython.display`` ou la commande de cellule magic `%%latex` que ce que ne permet la bibliothèque [mathjax](https://www..org/) :"
   ]
  },
  {
   "cell_type": "code",
   "execution_count": 3,
   "metadata": {},
   "outputs": [
    {
     "data": {
      "text/latex": [
       "$$F(k) = \\int_{-\\infty}^{\\infty} f(x) e^{2\\pi i k} dx$$"
      ],
      "text/plain": [
       "<IPython.core.display.Math object>"
      ]
     },
     "execution_count": 3,
     "metadata": {},
     "output_type": "execute_result"
    }
   ],
   "source": [
    "from IPython.display import Math\n",
    "Math(r'F(k) = \\int_{-\\infty}^{\\infty} f(x) e^{2\\pi i k} dx')"
   ]
  },
  {
   "cell_type": "code",
   "execution_count": 4,
   "metadata": {},
   "outputs": [
    {
     "data": {
      "text/latex": [
       "\\begin{eqnarray}\n",
       "\\nabla \\times \\vec{\\mathbf{B}} -\\, \\frac1c\\, \\frac{\\partial\\vec{\\mathbf{E}}}{\\partial t} & = \\frac{4\\pi}{c}\\vec{\\mathbf{j}} \\\\\n",
       "\\nabla \\cdot \\vec{\\mathbf{E}} & = 4 \\pi \\rho \\\\\n",
       "\\nabla \\times \\vec{\\mathbf{E}}\\, +\\, \\frac1c\\, \\frac{\\partial\\vec{\\mathbf{B}}}{\\partial t} & = \\vec{\\mathbf{0}} \\\\\n",
       "\\nabla \\cdot \\vec{\\mathbf{B}} & = 0 \n",
       "\\end{eqnarray}"
      ],
      "text/plain": [
       "<IPython.core.display.Latex object>"
      ]
     },
     "execution_count": 4,
     "metadata": {},
     "output_type": "execute_result"
    }
   ],
   "source": [
    "from IPython.display import Latex\n",
    "Latex(r\"\"\"\\begin{eqnarray}\n",
    "\\nabla \\times \\vec{\\mathbf{B}} -\\, \\frac1c\\, \\frac{\\partial\\vec{\\mathbf{E}}}{\\partial t} & = \\frac{4\\pi}{c}\\vec{\\mathbf{j}} \\\\\n",
    "\\nabla \\cdot \\vec{\\mathbf{E}} & = 4 \\pi \\rho \\\\\n",
    "\\nabla \\times \\vec{\\mathbf{E}}\\, +\\, \\frac1c\\, \\frac{\\partial\\vec{\\mathbf{B}}}{\\partial t} & = \\vec{\\mathbf{0}} \\\\\n",
    "\\nabla \\cdot \\vec{\\mathbf{B}} & = 0 \n",
    "\\end{eqnarray}\"\"\")"
   ]
  },
  {
   "cell_type": "code",
   "execution_count": 1,
   "metadata": {},
   "outputs": [
    {
     "data": {
      "text/latex": [
       "\\begin{aligned}\n",
       "\\nabla \\times \\vec{\\mathbf{B}} -\\, \\frac1c\\, \\frac{\\partial\\vec{\\mathbf{E}}}{\\partial t} & = \\frac{4\\pi}{c}\\vec{\\mathbf{j}} \\\\\n",
       "\\nabla \\cdot \\vec{\\mathbf{E}} & = 4 \\pi \\rho \\\\\n",
       "\\nabla \\times \\vec{\\mathbf{E}}\\, +\\, \\frac1c\\, \\frac{\\partial\\vec{\\mathbf{B}}}{\\partial t} & = \\vec{\\mathbf{0}} \\\\\n",
       "\\nabla \\cdot \\vec{\\mathbf{B}} & = 0\n",
       "\\end{aligned}"
      ],
      "text/plain": [
       "<IPython.core.display.Latex object>"
      ]
     },
     "metadata": {},
     "output_type": "display_data"
    }
   ],
   "source": [
    "%%latex\n",
    "\\begin{aligned}\n",
    "\\nabla \\times \\vec{\\mathbf{B}} -\\, \\frac1c\\, \\frac{\\partial\\vec{\\mathbf{E}}}{\\partial t} & = \\frac{4\\pi}{c}\\vec{\\mathbf{j}} \\\\\n",
    "\\nabla \\cdot \\vec{\\mathbf{E}} & = 4 \\pi \\rho \\\\\n",
    "\\nabla \\times \\vec{\\mathbf{E}}\\, +\\, \\frac1c\\, \\frac{\\partial\\vec{\\mathbf{B}}}{\\partial t} & = \\vec{\\mathbf{0}} \\\\\n",
    "\\nabla \\cdot \\vec{\\mathbf{B}} & = 0\n",
    "\\end{aligned}"
   ]
  },
  {
   "cell_type": "markdown",
   "metadata": {},
   "source": [
    "Source : https://nbviewer.jupyter.org/github/ipython/ipython/blob/2.x/examples/Notebook/Display%20System.ipynb#LaTeX"
   ]
  },
  {
   "cell_type": "markdown",
   "metadata": {
    "slideshow": {
     "slide_type": "-"
    }
   },
   "source": [
    "<a rel=\"license\" href=\"http://creativecommons.org/licenses/by-sa/4.0/\"><img alt=\"Licence Creative Commons\" style=\"border-width:0\" src=\"https://i.creativecommons.org/l/by-sa/4.0/88x31.png\" /></a><br />Ce document est mis à disposition selon les termes de la <a rel=\"license\" href=\"http://creativecommons.org/licenses/by-sa/4.0/\">Licence Creative Commons Attribution -  Partage dans les Mêmes Conditions 4.0 International</a>.\n",
    "\n",
    "Pour toute question, suggestion ou commentaire : <a href=\"mailto:eric.madec@ecmorlaix.fr\">eric.madec@ecmorlaix.fr</a>"
   ]
  }
 ],
 "metadata": {
  "kernelspec": {
   "display_name": "Python 3",
   "language": "python",
   "name": "python3"
  },
  "language_info": {
   "codemirror_mode": {
    "name": "ipython",
    "version": 3
   },
   "file_extension": ".py",
   "mimetype": "text/x-python",
   "name": "python",
   "nbconvert_exporter": "python",
   "pygments_lexer": "ipython3",
   "version": "3.7.3"
  },
  "toc": {
   "base_numbering": 1,
   "nav_menu": {},
   "number_sections": true,
   "sideBar": true,
   "skip_h1_title": false,
   "title_cell": "Table of Contents",
   "title_sidebar": "Contents",
   "toc_cell": false,
   "toc_position": {},
   "toc_section_display": true,
   "toc_window_display": false
  },
  "varInspector": {
   "cols": {
    "lenName": 16,
    "lenType": 16,
    "lenVar": 40
   },
   "kernels_config": {
    "python": {
     "delete_cmd_postfix": "",
     "delete_cmd_prefix": "del ",
     "library": "var_list.py",
     "varRefreshCmd": "print(var_dic_list())"
    },
    "r": {
     "delete_cmd_postfix": ") ",
     "delete_cmd_prefix": "rm(",
     "library": "var_list.r",
     "varRefreshCmd": "cat(var_dic_list()) "
    }
   },
   "types_to_exclude": [
    "module",
    "function",
    "builtin_function_or_method",
    "instance",
    "_Feature"
   ],
   "window_display": false
  }
 },
 "nbformat": 4,
 "nbformat_minor": 2
}
