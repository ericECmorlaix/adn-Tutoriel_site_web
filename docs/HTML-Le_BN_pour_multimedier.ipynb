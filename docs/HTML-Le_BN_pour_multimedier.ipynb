{
 "cells": [
  {
   "cell_type": "markdown",
   "metadata": {
    "slideshow": {
     "slide_type": "slide"
    }
   },
   "source": [
    "# Le Bloc Note pour le multimédia"
   ]
  },
  {
   "cell_type": "markdown",
   "metadata": {
    "slideshow": {
     "slide_type": "subslide"
    }
   },
   "source": [
    "Dans un notebook jupyter on peut rédiger des commentaires en langage naturel, intégrer des liens hypertextes, des images et des vidéos en langage HTML dans des cellules de type **`Markdown`**"
   ]
  },
  {
   "cell_type": "markdown",
   "metadata": {
    "slideshow": {
     "slide_type": "fragment"
    }
   },
   "source": [
    "***  \n",
    "> Ce document est un notebook jupyter, pour bien vous familiariser avec cet environnement regardez cette rapide [Introduction](Introduction-Le_BN_pour_explorer.ipynb).  \n",
    "\n",
    "***"
   ]
  },
  {
   "cell_type": "markdown",
   "metadata": {
    "slideshow": {
     "slide_type": "subslide"
    }
   },
   "source": [
    "**HTML** est un langage de description à balisage pour publier un document sur le Web : en même temps que l'on écrit du contenu on l'encadre entre des balises codifiées spécifiques **`<balise> Contenu à afficher </balise>`** , qui indiquent au navigateur comment il faut l'afficher..."
   ]
  },
  {
   "cell_type": "markdown",
   "metadata": {
    "slideshow": {
     "slide_type": "fragment"
    }
   },
   "source": [
    "> <h3 class='fa fa-cogs' style=\"color: darkorange\"> A faire vous-même </h3>\n",
    ">\n",
    "> Copier/coller (ou recopier) le code **HTML** proposé dans une cellule `# Tester votre code ici`, basculer le type de la cellule de **`Code`** vers **`Markdown`**, puis appuyer sur le bouton <button class='fa fa-step-forward icon-step-forward btn btn-xs btn-default'></button> ou sur les touches **`<Maj+Entree>`** pour afficher le résultat."
   ]
  },
  {
   "cell_type": "markdown",
   "metadata": {
    "slideshow": {
     "slide_type": "slide"
    }
   },
   "source": [
    "## Les titres :\n",
    "\n",
    "````html\n",
    "<h1>Titre de niveau 1</h1>\n",
    "<h2>Titre de niveau 2</h2>\n",
    "<h3>Titre de niveau 3</h3>\n",
    "<h4>Titre de niveau 4</h4>\n",
    "<h5>Titre de niveau 5</h5>\n",
    "````"
   ]
  },
  {
   "cell_type": "code",
   "execution_count": null,
   "metadata": {
    "slideshow": {
     "slide_type": "subslide"
    }
   },
   "outputs": [],
   "source": [
    "# Tester votre code ici"
   ]
  },
  {
   "cell_type": "markdown",
   "metadata": {
    "slideshow": {
     "slide_type": "slide"
    }
   },
   "source": [
    "## Le corps de texte :\n",
    "\n",
    "````html\n",
    "Sed quid est quod in hac causa maxime homines admirentur et reprehendant meum consilium, cum ego idem antea multa decreverim, que magis ad hominis dignitatem quam ad rei publicae necessitatem pertinerent ?\n",
    "Supplicationem quindecim dierum decrevi sententia mea.\n",
    "Rei publicae satis erat tot dierum quot C. Mario ; dis immortalibus non erat exigua eadem gratulatio quae ex maximis bellis.\n",
    "Ergo ille cumulus dierum hominis est dignitati tributus.\n",
    "Et prima post Osdroenam quam, ut dictum est, ab hac descriptione discrevimus, Commagena, nunc Euphratensis, clementer adsurgit, Hierapoli, vetere Nino et Samosata civitatibus amplis inlustris.\n",
    "````"
   ]
  },
  {
   "cell_type": "code",
   "execution_count": null,
   "metadata": {
    "slideshow": {
     "slide_type": "subslide"
    }
   },
   "outputs": [],
   "source": [
    "# Tester votre code ici"
   ]
  },
  {
   "cell_type": "markdown",
   "metadata": {
    "slideshow": {
     "slide_type": "fragment"
    }
   },
   "source": [
    "### Retour à la ligne et paragraphes\n",
    "\n",
    "> <h3 class='fa fa-cogs' style=\"color: darkorange\"> A faire vous-même </h3>\n",
    ">\n",
    "> Dans le [lorem ipsum](https://fr.wikipedia.org/wiki/Faux-texte \"lien wikipedia\") ci-dessus, insérer un balise **`<br>`** à la fin d'une phrase pour forcer le retour à la ligne et encadrer une ou plusieurs phrases entre des balises **`<p>...</p>`** pour former des paragraphes."
   ]
  },
  {
   "cell_type": "markdown",
   "metadata": {
    "slideshow": {
     "slide_type": "subslide"
    }
   },
   "source": [
    "### Italique :\n",
    "\n",
    "````html\n",
    "<p><em>Texte</em> avec <i>emphase</i> en Italique</p>\n",
    "````"
   ]
  },
  {
   "cell_type": "code",
   "execution_count": null,
   "metadata": {
    "slideshow": {
     "slide_type": "subslide"
    }
   },
   "outputs": [],
   "source": [
    "# Tester votre code ici"
   ]
  },
  {
   "cell_type": "markdown",
   "metadata": {
    "slideshow": {
     "slide_type": "fragment"
    }
   },
   "source": [
    "### Gras :\n",
    "\n",
    "````html\n",
    "<p><strong>Texte</strong> plus <b>important</b> en Gras</p>\n",
    "````"
   ]
  },
  {
   "cell_type": "code",
   "execution_count": null,
   "metadata": {
    "slideshow": {
     "slide_type": "subslide"
    }
   },
   "outputs": [],
   "source": [
    "# Tester votre code ici"
   ]
  },
  {
   "cell_type": "markdown",
   "metadata": {
    "slideshow": {
     "slide_type": "fragment"
    }
   },
   "source": [
    "### Gras et italique combinés :\n",
    "\n",
    "````html\n",
    "<p><b><i>Texte<i></b> à la fois en <strong>gras</strong> et en <em>italique</em></p>\n",
    "````"
   ]
  },
  {
   "cell_type": "code",
   "execution_count": null,
   "metadata": {
    "slideshow": {
     "slide_type": "subslide"
    }
   },
   "outputs": [],
   "source": [
    "# Tester votre code ici"
   ]
  },
  {
   "cell_type": "markdown",
   "metadata": {
    "slideshow": {
     "slide_type": "subslide"
    }
   },
   "source": [
    "### Barré :\n",
    "\n",
    "````html\n",
    "<p>Texte barré <del>à supprimer</del></p>\n",
    "````"
   ]
  },
  {
   "cell_type": "code",
   "execution_count": null,
   "metadata": {
    "slideshow": {
     "slide_type": "subslide"
    }
   },
   "outputs": [],
   "source": [
    "# Tester votre code ici"
   ]
  },
  {
   "cell_type": "markdown",
   "metadata": {},
   "source": [
    "> En comparant avec le bloc note [Markdown](MarkDown-Le_BN_pour_rapporter.ipynb), tout ce que l'on a codé jusque là en **HTML** est nettement plus simple et donc plus rapide à écrire en **Markdown**.  \n",
    "En revanche, les autres formatage de texte suivantes comme le <u>souligné</u> n'existe pas en **Markdown**. Il faut donc obligatoirement le faire en **HTML**.  \n",
    "Ce qui est génial avec jupyter notebook c'est que l'on peut mélanger les langages **Mardown** et **HTML** (et même **LaTeX**) dans une même cellule de type **`Markdown`**.  \n",
    "On est donc libre de choisir le code qui correspond le mieux à notre besoin..."
   ]
  },
  {
   "cell_type": "markdown",
   "metadata": {
    "slideshow": {
     "slide_type": "subslide"
    }
   },
   "source": [
    "### Souligné :\n",
    "\n",
    "````html\n",
    "<p><ins>Texte</ins> qui a été <u>inséré</u> en souligné</p>\n",
    "````"
   ]
  },
  {
   "cell_type": "code",
   "execution_count": null,
   "metadata": {
    "slideshow": {
     "slide_type": "subslide"
    }
   },
   "outputs": [],
   "source": [
    "# Tester votre code ici"
   ]
  },
  {
   "cell_type": "markdown",
   "metadata": {
    "slideshow": {
     "slide_type": "subslide"
    }
   },
   "source": [
    "### Autres :\n",
    "\n",
    "````html\n",
    "<p>Texte : <small>petit</small>, <s>incorrect</s>, <sub>indice</sub>, <sup>exposant</sup>, <mark>surligné</mark></p>\n",
    "````"
   ]
  },
  {
   "cell_type": "code",
   "execution_count": null,
   "metadata": {
    "slideshow": {
     "slide_type": "subslide"
    }
   },
   "outputs": [],
   "source": [
    "# Tester votre code ici"
   ]
  },
  {
   "cell_type": "markdown",
   "metadata": {
    "slideshow": {
     "slide_type": "fragment"
    }
   },
   "source": [
    "> <h3 class='fa fa-cogs' style=\"color: darkorange\"> A faire vous-même </h3>\n",
    ">\n",
    "> Dans le [lorem ipsum](https://fr.wikipedia.org/wiki/Faux-texte \"lien wikipedia\") ci-dessus, formater certains éléments pour les afficher soit en *italique*, en **gras**, en ~~barré~~, en <u>souligné</u> ou <mark>autres</mark>..."
   ]
  },
  {
   "cell_type": "markdown",
   "metadata": {
    "slideshow": {
     "slide_type": "slide"
    }
   },
   "source": [
    "## Les listes :"
   ]
  },
  {
   "cell_type": "markdown",
   "metadata": {
    "slideshow": {
     "slide_type": "subslide"
    }
   },
   "source": [
    "### Non ordonnée :\n",
    "\n",
    "````html\n",
    "<ul>\n",
    "  <li>Un élement de ma liste ;</li>\n",
    "  <li>Un autre élément de ma liste ;\n",
    "    <ul>\n",
    "      <li>Un élément de ma sous-liste ;</li>\n",
    "      <li>Un autre élément de ma sous-liste ;</li>\n",
    "    </ul>\n",
    "  </li>\n",
    "  <li>Encore un autre élément de ma liste.</li>\n",
    "</ul>\n",
    "````"
   ]
  },
  {
   "cell_type": "code",
   "execution_count": null,
   "metadata": {
    "slideshow": {
     "slide_type": "subslide"
    }
   },
   "outputs": [],
   "source": [
    "# Tester votre code ici"
   ]
  },
  {
   "cell_type": "markdown",
   "metadata": {
    "slideshow": {
     "slide_type": "subslide"
    }
   },
   "source": [
    "### Ordonnée :\n",
    "\n",
    "````html\n",
    "<ol>\n",
    "  <li>Le premier élement de ma liste ;</li>\n",
    "  <li>Le second élément de ma liste ;\n",
    "    <ol>\n",
    "      <li>Le premier élément de ma sous-liste ;</li>\n",
    "      <li>Le second élément de ma sous-liste ;</li>\n",
    "    </ol>\n",
    "  </li>\n",
    "  <li>Le troisième élément de ma liste.</li>\n",
    "</ol>\n",
    "````"
   ]
  },
  {
   "cell_type": "code",
   "execution_count": null,
   "metadata": {
    "slideshow": {
     "slide_type": "subslide"
    }
   },
   "outputs": [],
   "source": [
    "# Tester votre code ici"
   ]
  },
  {
   "cell_type": "markdown",
   "metadata": {},
   "source": [
    "### Descriptive :\n",
    "\n",
    "````html\n",
    "<dl>\n",
    "  <dt>Coffee</dt>\n",
    "  <dd>Black hot drink</dd>\n",
    "  <dt>Milk</dt>\n",
    "  <dd>White cold drink</dd>\n",
    "</dl>\n",
    "````"
   ]
  },
  {
   "cell_type": "code",
   "execution_count": null,
   "metadata": {
    "slideshow": {
     "slide_type": "subslide"
    }
   },
   "outputs": [],
   "source": [
    "# Tester votre code ici"
   ]
  },
  {
   "cell_type": "markdown",
   "metadata": {
    "slideshow": {
     "slide_type": "slide"
    }
   },
   "source": [
    "## Les citations :\n",
    "\n",
    "````html\n",
    "<blockquote>\n",
    "  <p>Ceci est une citation</p>\n",
    "</blockquote>\n",
    "````"
   ]
  },
  {
   "cell_type": "code",
   "execution_count": null,
   "metadata": {
    "slideshow": {
     "slide_type": "subslide"
    }
   },
   "outputs": [],
   "source": [
    "# Tester votre code ici"
   ]
  },
  {
   "cell_type": "markdown",
   "metadata": {
    "slideshow": {
     "slide_type": "slide"
    }
   },
   "source": [
    "## Les traits horizontaux de séparation :\n",
    "\n",
    "````html\n",
    "<hr>\n",
    "<hr>\n",
    "````"
   ]
  },
  {
   "cell_type": "code",
   "execution_count": null,
   "metadata": {
    "slideshow": {
     "slide_type": "subslide"
    }
   },
   "outputs": [],
   "source": [
    "# Tester votre code ici"
   ]
  },
  {
   "cell_type": "markdown",
   "metadata": {
    "slideshow": {
     "slide_type": "slide"
    }
   },
   "source": [
    "## Tableau :\n",
    "\n",
    "````html\n",
    "<table>\n",
    "  <thead>\n",
    "    <tr>\n",
    "      <th>Tables</th>\n",
    "      <th style=\"text-align:center\">Are</th>\n",
    "      <th style=\"text-align:right\">Cool</th>\n",
    "    </tr>\n",
    "  </thead>\n",
    "  <tbody>\n",
    "    <tr>\n",
    "      <td>col 1 is</td>\n",
    "      <td style=\"text-align:center\">left-aligned</td>\n",
    "      <td style=\"text-align:right\">1600</td>\n",
    "    </tr>\n",
    "    <tr>\n",
    "      <td>col 2 is</td>\n",
    "      <td style=\"text-align:center\">centered</td>\n",
    "      <td style=\"text-align:right\">12</td>\n",
    "    </tr>\n",
    "    <tr>\n",
    "      <td>col 3 is</td>\n",
    "      <td style=\"text-align:center\">right-aligned</td>\n",
    "      <td style=\"text-align:right\">1</td>\n",
    "    </tr>\n",
    "  </tbody>\n",
    "</table>\n",
    "````"
   ]
  },
  {
   "cell_type": "code",
   "execution_count": null,
   "metadata": {
    "slideshow": {
     "slide_type": "subslide"
    }
   },
   "outputs": [],
   "source": [
    "# Tester votre code ici"
   ]
  },
  {
   "cell_type": "markdown",
   "metadata": {
    "slideshow": {
     "slide_type": "subslide"
    }
   },
   "source": [
    "> <h3 class='fa fa-cogs' style=\"color: darkorange\"> A faire vous-même </h3>\n",
    ">\n",
    "> On peut très avantageusement utiliser un générateur de tableau comme : https://www.tablesgenerator.com/html_tables#"
   ]
  },
  {
   "cell_type": "markdown",
   "metadata": {
    "slideshow": {
     "slide_type": "slide"
    }
   },
   "source": [
    "## Commentaire :\n",
    "\n",
    "````html\n",
    "<!-- \n",
    "    Ceci est un commentaire,\n",
    "    \n",
    "    les informations inscritent ici ne s'afficheront pas sur l'écran.\n",
    "    \n",
    "    C'est très utile lorsque l'on développe un document en équipe de pouvoir inscrire dans le code des notes destinées uniquement aux Webmasters.\n",
    "    \n",
    "-->\n",
    "````"
   ]
  },
  {
   "cell_type": "code",
   "execution_count": null,
   "metadata": {
    "slideshow": {
     "slide_type": "subslide"
    }
   },
   "outputs": [],
   "source": [
    "# Tester votre code ici"
   ]
  },
  {
   "cell_type": "markdown",
   "metadata": {
    "slideshow": {
     "slide_type": "fragment"
    }
   },
   "source": [
    "> Attention toutefois car les commentaires sont toujours visibles dans le code source de la page..."
   ]
  },
  {
   "cell_type": "markdown",
   "metadata": {
    "slideshow": {
     "slide_type": "slide"
    }
   },
   "source": [
    "## Images :\n",
    "\n",
    "### Images liées :\n",
    "\n",
    "````html\n",
    "<img src=\"http://www.google.com/logos/2012/turing-doodle-static.jpg\" alt=\"Turing's Device\" title=\"Alan Turing's 100th Birthday\">\n",
    "````\n",
    "> Pour afficher une image, il faut utiliser un balise unique **`<img>`** ;  \n",
    "Indiquer **`src=`** l’URL de l’image entre guillemets. Cette URL peut être un lien absolu vers le web ou un chemin local de ce type : \"/dossier_images/nom_de_mon_image.jpg\" (lien relatif).  \n",
    "Puis ajouter **`alt=`** le texte alternatif entre guillemets. Ce dernier sera affiché si l’image n’est pas chargé et lu par les moteurs de recherche.  \n",
    "Après, il est possible d’ajouter un titre lu par les navigateurs textuels et affiché au survol de l’image par les autres.\n",
    "\n",
    "````html\n",
    "<img src=\"https://ericecmorlaix.github.io/img/ECAM-Lycee-Notre-Dame-Du-Mur.png\" alt=\"Logo du Lycee Notre Dame Du Mur\" title=\"Logo du Lycee Notre Dame Du Mur de Morlaix\" width=\"50%\">\n",
    "<center>Logo du Lycee Notre Dame Du Mur de Morlaix.</center>\n",
    "````\n",
    "\n",
    "> Le gros avantage du code **HTML** comparativement au **Markdown** concernant les images est que l'on peut gérer très simplement sa taille d'affichage en renseignant les attributs **`width=`** et/ou **`height=`**\n",
    "\n",
    "### Images intégrées :"
   ]
  },
  {
   "cell_type": "markdown",
   "metadata": {},
   "source": [
    "Ce code HTML d'une image au format `png` dans une cellule markdown produit l'image ci-dessous :\n",
    "`<img src=\"data:image/png;base64,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\n"
   ]
  },
  {
   "cell_type": "markdown",
   "metadata": {},
   "source": [
    "<img src=\"data:image/png;base64,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\" />"
   ]
  },
  {
   "cell_type": "code",
   "execution_count": null,
   "metadata": {
    "slideshow": {
     "slide_type": "subslide"
    }
   },
   "outputs": [],
   "source": [
    "# Tester votre code ici"
   ]
  },
  {
   "cell_type": "markdown",
   "metadata": {
    "slideshow": {
     "slide_type": "slide"
    }
   },
   "source": [
    "## Lien hypertexte :"
   ]
  },
  {
   "cell_type": "markdown",
   "metadata": {
    "slideshow": {
     "slide_type": "subslide"
    }
   },
   "source": [
    "### Isolé :\n",
    "\n",
    "````html\n",
    "<a href=\"http://ecmorlaix.fr/\">http://ecmorlaix.fr/</a>\n",
    "````\n",
    "\n",
    "### Inclu dans un paragraphe :\n",
    "\n",
    "````html\n",
    "<p>Le portail de l'<a href=\"http://ecmorlaix.fr/\" title=\"Lien vers le portail des Etablissement Catholiques Associés de Morlaix\">ECA.M</a></p>\n",
    "````\n",
    "\n",
    "### Sur une image :\n",
    "\n",
    "````html\n",
    "<a href=\"http://ecmorlaix.fr/\" title=\"Lien vers le portail des Etablissement Catholiques Associés de Morlaix\"><img src=\"https://ericecmorlaix.github.io/img/ECAM-Logo.png\" alt=\"Logo de l'ECA.M\" width=\"30%\"></a>\n",
    "````"
   ]
  },
  {
   "cell_type": "code",
   "execution_count": null,
   "metadata": {
    "slideshow": {
     "slide_type": "subslide"
    }
   },
   "outputs": [],
   "source": [
    "# Tester votre code ici"
   ]
  },
  {
   "cell_type": "markdown",
   "metadata": {
    "slideshow": {
     "slide_type": "slide"
    }
   },
   "source": [
    "## Vidéo :"
   ]
  },
  {
   "cell_type": "markdown",
   "metadata": {
    "slideshow": {
     "slide_type": "subslide"
    }
   },
   "source": [
    "````html\n",
    "<video width=\"560\" controls src=\"https://ericecmorlaix.github.io/img/movie.mp4\">\n",
    "````"
   ]
  },
  {
   "cell_type": "code",
   "execution_count": null,
   "metadata": {
    "slideshow": {
     "slide_type": "subslide"
    }
   },
   "outputs": [],
   "source": [
    "# Tester votre code ici"
   ]
  },
  {
   "cell_type": "markdown",
   "metadata": {
    "slideshow": {
     "slide_type": "subslide"
    }
   },
   "source": [
    "> Avec cette dernière fonctionnalité pour la vidéo, qui complète celles pour les images, les tableaux, les hyperliens, ..., le codage en **HTML** des cellules de type **`Markdown`** couvre les besoins pour la rédaction de comptes-rendus multimédias publiables sur le web.  \n",
    "\n",
    "> Cette rédaction peut-être largement simplifiée et accélérée grace au codage **[Markdown](MarkDown-Le_BN_pour_rapporter.ipynb)** mais qui permet un peu moins de fonctionnalité multimédia que le codage **HTML**. Il faudra donc les combiner pour prendre le meilleur des deux...  \n",
    "\n",
    "> Toutes les fonctionnalités multimédia de **HTML** ne sont cependant pas supportées par les cellules de type **`Markdown`** d'un jupyter notebook. Par exemple, pour intégrer une vidéo Youtube via une balise `<iframe> </iframe>` ou n'importe quelle autre code **HTML**, il faudra recourir aux fonctions `magic`de IPython dans une cellule de type **`Code`** :"
   ]
  },
  {
   "cell_type": "code",
   "execution_count": null,
   "metadata": {
    "collapsed": true,
    "slideshow": {
     "slide_type": "subslide"
    }
   },
   "outputs": [],
   "source": [
    "%%HTML\n",
    "<center>\n",
    "<iframe width=\"560\" height=\"420\" src=\"https://www.youtube.com/embed/fWBcQUdxkrI?rel=0\" frameborder=\"0\" gesture=\"media\" allow=\"encrypted-media\" allowfullscreen></iframe>\n",
    "<h1>Et Bonne Année 2018 ...</h1>\n",
    "</center>"
   ]
  },
  {
   "cell_type": "markdown",
   "metadata": {
    "slideshow": {
     "slide_type": "slide"
    }
   },
   "source": [
    "## Ressources :"
   ]
  },
  {
   "cell_type": "markdown",
   "metadata": {
    "slideshow": {
     "slide_type": "fragment"
    }
   },
   "source": [
    "* Pour aller plus loin en HTML/CSS : http://api.si.lycee.ecmorlaix.fr/APprentissageHtmlCss/\n",
    "* Un site de référence pour le HTML5 : https://www.w3schools.com/html/default.asp\n",
    "* Voir aussi https://flaviocopes.nyc3.digitaloceanspaces.com/html-handbook/html-handbook.pdf"
   ]
  },
  {
   "cell_type": "markdown",
   "metadata": {
    "slideshow": {
     "slide_type": "slide"
    }
   },
   "source": [
    "## A vous de jouer :"
   ]
  },
  {
   "cell_type": "markdown",
   "metadata": {
    "slideshow": {
     "slide_type": "fragment"
    }
   },
   "source": [
    "> <h3 class='fa fa-cogs' style=\"color: darkorange\"> A faire vous-même </h3>\n",
    ">\n",
    "> Saisir votre texte balisé en code HTML dans la cellule suivante, jupyter affichera le résultat mis en forme automatiquement..."
   ]
  },
  {
   "cell_type": "code",
   "execution_count": null,
   "metadata": {
    "slideshow": {
     "slide_type": "-"
    }
   },
   "outputs": [],
   "source": []
  },
  {
   "cell_type": "markdown",
   "metadata": {
    "slideshow": {
     "slide_type": "slide"
    }
   },
   "source": [
    "***  \n",
    "\n",
    "> **Félicitations !** Vous êtes parvenu au bout des activités de ce bloc note.  \n",
    "> Vous êtes maintenant capable de rédiger en **HTML** dans l'environnement interactif jupyter notebook.\n",
    "\n",
    "> Pour explorer plus avant d'autres fonctionnalités de jupyter notebook repassez par le [Sommaire](index.ipynb).\n",
    "\n",
    "***"
   ]
  },
  {
   "cell_type": "markdown",
   "metadata": {
    "slideshow": {
     "slide_type": "-"
    }
   },
   "source": [
    "<a rel=\"license\" href=\"http://creativecommons.org/licenses/by-sa/4.0/\"><img alt=\"Licence Creative Commons\" style=\"border-width:0\" src=\"https://i.creativecommons.org/l/by-sa/4.0/88x31.png\" /></a><br />Ce document est mis à disposition selon les termes de la <a rel=\"license\" href=\"http://creativecommons.org/licenses/by-sa/4.0/\">Licence Creative Commons Attribution -  Partage dans les Mêmes Conditions 4.0 International</a>.\n",
    "\n",
    "Pour toute question, suggestion ou commentaire : <a href=\"mailto:eric.madec@ecmorlaix.fr\">eric.madec@ecmorlaix.fr</a>"
   ]
  }
 ],
 "metadata": {
  "kernelspec": {
   "display_name": "Python 3",
   "language": "python",
   "name": "python3"
  },
  "language_info": {
   "codemirror_mode": {
    "name": "ipython",
    "version": 3
   },
   "file_extension": ".py",
   "mimetype": "text/x-python",
   "name": "python",
   "nbconvert_exporter": "python",
   "pygments_lexer": "ipython3",
   "version": "3.7.3"
  },
  "toc": {
   "base_numbering": 1,
   "nav_menu": {},
   "number_sections": true,
   "sideBar": true,
   "skip_h1_title": false,
   "title_cell": "Table of Contents",
   "title_sidebar": "Contents",
   "toc_cell": false,
   "toc_position": {},
   "toc_section_display": true,
   "toc_window_display": false
  },
  "varInspector": {
   "cols": {
    "lenName": 16,
    "lenType": 16,
    "lenVar": 40
   },
   "kernels_config": {
    "python": {
     "delete_cmd_postfix": "",
     "delete_cmd_prefix": "del ",
     "library": "var_list.py",
     "varRefreshCmd": "print(var_dic_list())"
    },
    "r": {
     "delete_cmd_postfix": ") ",
     "delete_cmd_prefix": "rm(",
     "library": "var_list.r",
     "varRefreshCmd": "cat(var_dic_list()) "
    }
   },
   "types_to_exclude": [
    "module",
    "function",
    "builtin_function_or_method",
    "instance",
    "_Feature"
   ],
   "window_display": false
  }
 },
 "nbformat": 4,
 "nbformat_minor": 2
}
