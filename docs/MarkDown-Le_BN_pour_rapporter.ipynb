{
 "cells": [
  {
   "cell_type": "markdown",
   "metadata": {
    "slideshow": {
     "slide_type": "slide"
    }
   },
   "source": [
    "# Le Bloc Note pour rapporter"
   ]
  },
  {
   "cell_type": "markdown",
   "metadata": {
    "slideshow": {
     "slide_type": "subslide"
    }
   },
   "source": [
    "Dans un notebook jupyter on peut rédiger des commentaires en langage naturel, intégrer des liens hypertextes et des images dans des cellules de type **`Markdown`**."
   ]
  },
  {
   "cell_type": "markdown",
   "metadata": {
    "slideshow": {
     "slide_type": "fragment"
    }
   },
   "source": [
    "***  \n",
    "> Ce document est un notebook jupyter, pour bien vous familiariser avec cet environnement regardez cette rapide [Introduction](https://ericecmorlaix.github.io/base_mkdocs_material/Notebook/).  \n",
    "\n",
    "***"
   ]
  },
  {
   "cell_type": "markdown",
   "metadata": {
    "slideshow": {
     "slide_type": "subslide"
    }
   },
   "source": [
    "**Markdown** est un langage de description à balisage plus léger que HTML et donc plus rapide pour rédiger et publier un document sur le Web.  \n",
    "Aussi, il est de plus en plus utilisé : incontournable sur [GitHub](https://github.com/ \"lien GitHub\"), les forums d'[OpenClassroom](https://OpenClassroom.fr/ \"lien OpenClassroom\"), de [Stack Overflow](https://fr.wikipedia.org/wiki/Stack_Overflow \"lien Wikipedia Stack Overflow\")..."
   ]
  },
  {
   "cell_type": "markdown",
   "metadata": {
    "slideshow": {
     "slide_type": "fragment"
    }
   },
   "source": [
    "L'idée est de pouvoir mettre en forme du texte sans avoir besoin de recourir à la souris : en même temps que l'on écrit du contenu on indique par des symboles codifiés comment il faut l'afficher..."
   ]
  },
  {
   "cell_type": "markdown",
   "metadata": {
    "slideshow": {
     "slide_type": "fragment"
    }
   },
   "source": [
    "> <h3 class='fa fa-cogs' style=\"color: darkorange\"> A faire vous-même </h3>\n",
    ">\n",
    "> Pour afficher le résultat du code **Markdown** proposé, basculer le type de la cellule de **`Code`** vers **`Markdown`**, puis appuyer sur le bouton <button class='fa fa-step-forward icon-step-forward btn btn-xs btn-default'></button> ou sur les touches **`<Maj+Entree>`** ."
   ]
  },
  {
   "cell_type": "markdown",
   "metadata": {
    "slideshow": {
     "slide_type": "slide"
    }
   },
   "source": [
    "## Les titres :"
   ]
  },
  {
   "cell_type": "code",
   "execution_count": null,
   "metadata": {
    "slideshow": {
     "slide_type": "subslide"
    }
   },
   "outputs": [],
   "source": [
    "# Titre de niveau 1\n",
    "## Titre de niveau 2\n",
    "### Titre de niveau 3\n",
    "#### Titre de niveau 4\n",
    "##### Titre de niveau 5"
   ]
  },
  {
   "cell_type": "markdown",
   "metadata": {
    "slideshow": {
     "slide_type": "slide"
    }
   },
   "source": [
    "## Le corps de texte :"
   ]
  },
  {
   "cell_type": "code",
   "execution_count": null,
   "metadata": {
    "slideshow": {
     "slide_type": "subslide"
    }
   },
   "outputs": [],
   "source": [
    "Sed quid est quod in hac causa maxime homines admirentur et reprehendant meum consilium, cum ego idem antea multa decreverim, que magis ad hominis dignitatem quam ad rei publicae necessitatem pertinerent ?\n",
    "Supplicationem quindecim dierum decrevi sententia mea.\n",
    "Rei publicae satis erat tot dierum quot C. Mario ; dis immortalibus non erat exigua eadem gratulatio quae ex maximis bellis.\n",
    "Ergo ille cumulus dierum hominis est dignitati tributus.\n",
    "Et prima post Osdroenam quam, ut dictum est, ab hac descriptione discrevimus, Commagena, nunc Euphratensis, clementer adsurgit, Hierapoli, vetere Nino et Samosata civitatibus amplis inlustris."
   ]
  },
  {
   "cell_type": "markdown",
   "metadata": {
    "slideshow": {
     "slide_type": "fragment"
    }
   },
   "source": [
    "### Retour à la ligne et paragraphes\n",
    "> <h3 class='fa fa-cogs' style=\"color: darkorange\"> A faire vous-même </h3>\n",
    ">\n",
    "> Dans le [lorem ipsum](https://fr.wikipedia.org/wiki/Faux-texte \"lien wikipedia\") ci-dessus, insérer deux espaces à la fin d'une phrase pour forcer le retour à la ligne et insérer une ligne vide pour former des paragraphes."
   ]
  },
  {
   "cell_type": "markdown",
   "metadata": {
    "slideshow": {
     "slide_type": "subslide"
    }
   },
   "source": [
    "### Italique"
   ]
  },
  {
   "cell_type": "code",
   "execution_count": null,
   "metadata": {
    "slideshow": {
     "slide_type": "-"
    }
   },
   "outputs": [],
   "source": [
    "_Texte_ avec *emphase* en Italique"
   ]
  },
  {
   "cell_type": "markdown",
   "metadata": {
    "slideshow": {
     "slide_type": "fragment"
    }
   },
   "source": [
    "### Gras"
   ]
  },
  {
   "cell_type": "code",
   "execution_count": null,
   "metadata": {
    "slideshow": {
     "slide_type": "-"
    }
   },
   "outputs": [],
   "source": [
    "__Texte__ plus **important** en Gras"
   ]
  },
  {
   "cell_type": "markdown",
   "metadata": {
    "slideshow": {
     "slide_type": "fragment"
    }
   },
   "source": [
    "### Gras et italique combinés"
   ]
  },
  {
   "cell_type": "code",
   "execution_count": null,
   "metadata": {
    "slideshow": {
     "slide_type": "-"
    }
   },
   "outputs": [],
   "source": [
    "**_Texte_** à la fois en **gras** et en *italique*"
   ]
  },
  {
   "cell_type": "markdown",
   "metadata": {
    "slideshow": {
     "slide_type": "subslide"
    }
   },
   "source": [
    "### Barré"
   ]
  },
  {
   "cell_type": "code",
   "execution_count": null,
   "metadata": {
    "slideshow": {
     "slide_type": "-"
    }
   },
   "outputs": [],
   "source": [
    "Texte barré ~~à supprimer~~"
   ]
  },
  {
   "cell_type": "markdown",
   "metadata": {
    "slideshow": {
     "slide_type": "fragment"
    }
   },
   "source": [
    "> <h3 class='fa fa-cogs' style=\"color: darkorange\"> A faire vous-même </h3>\n",
    ">\n",
    "> Dans le [lorem ipsum](https://fr.wikipedia.org/wiki/Faux-texte \"lien wikipedia\") ci-dessus, formater certains éléments pour les afficher soit en *italique*, en **gras** ou ~~barré~~.  \n",
    "> <u>Remarque</u> : pour souligner un élément il faudra utiliser un code HTML."
   ]
  },
  {
   "cell_type": "markdown",
   "metadata": {
    "slideshow": {
     "slide_type": "slide"
    }
   },
   "source": [
    "## Les listes :"
   ]
  },
  {
   "cell_type": "markdown",
   "metadata": {
    "slideshow": {
     "slide_type": "subslide"
    }
   },
   "source": [
    "### Non ordonnée"
   ]
  },
  {
   "cell_type": "code",
   "execution_count": null,
   "metadata": {
    "slideshow": {
     "slide_type": "-"
    }
   },
   "outputs": [],
   "source": [
    "* Un élement de ma liste ;\n",
    "* Un autre élément de ma liste ;\n",
    "    * Un élément de ma sous-liste ;\n",
    "    * Un autre élément de ma sous-liste ;\n",
    "* Encore un autre élément de ma liste."
   ]
  },
  {
   "cell_type": "markdown",
   "metadata": {
    "slideshow": {
     "slide_type": "fragment"
    }
   },
   "source": [
    "> Remarque : On peut aussi utiliser un `+` ou `-` à la place de l'`*`."
   ]
  },
  {
   "cell_type": "markdown",
   "metadata": {
    "slideshow": {
     "slide_type": "subslide"
    }
   },
   "source": [
    "### Ordonnée"
   ]
  },
  {
   "cell_type": "code",
   "execution_count": null,
   "metadata": {
    "slideshow": {
     "slide_type": "-"
    }
   },
   "outputs": [],
   "source": [
    "1. Le premier élement de ma liste ;\n",
    "1. Le second élément de ma liste ;\n",
    "    1. Le premier élément de ma sous-liste ;\n",
    "    1. Le second élément de ma sous-liste ;\n",
    "1. Le troisième élément de ma liste."
   ]
  },
  {
   "cell_type": "markdown",
   "metadata": {
    "slideshow": {
     "slide_type": "slide"
    }
   },
   "source": [
    "## Les citations :"
   ]
  },
  {
   "cell_type": "code",
   "execution_count": null,
   "metadata": {
    "slideshow": {
     "slide_type": "-"
    }
   },
   "outputs": [],
   "source": [
    "> une citation est un paragraphe ouvert par un chevron fermant"
   ]
  },
  {
   "cell_type": "markdown",
   "metadata": {
    "slideshow": {
     "slide_type": "slide"
    }
   },
   "source": [
    "## Les traits horizontaux de séparation"
   ]
  },
  {
   "cell_type": "code",
   "execution_count": null,
   "metadata": {
    "slideshow": {
     "slide_type": "-"
    }
   },
   "outputs": [],
   "source": [
    "***"
   ]
  },
  {
   "cell_type": "code",
   "execution_count": null,
   "metadata": {
    "slideshow": {
     "slide_type": "-"
    }
   },
   "outputs": [],
   "source": [
    "---"
   ]
  },
  {
   "cell_type": "markdown",
   "metadata": {
    "slideshow": {
     "slide_type": "slide"
    }
   },
   "source": [
    "## Tableau :"
   ]
  },
  {
   "cell_type": "code",
   "execution_count": null,
   "metadata": {
    "slideshow": {
     "slide_type": "-"
    }
   },
   "outputs": [],
   "source": [
    "| Tables   |      Are      | Cool |\n",
    "|----------|:-------------:|-----:|\n",
    "| col 1 is |  left-aligned | 1600 |\n",
    "| col 2 is |    centered   |   12 |\n",
    "| col 3 is | right-aligned |    1 |"
   ]
  },
  {
   "cell_type": "markdown",
   "metadata": {
    "slideshow": {
     "slide_type": "fragment"
    }
   },
   "source": [
    "> <h3 class='fa fa-cogs' style=\"color: darkorange\"> A faire vous-même </h3>\n",
    ">\n",
    "> On peut avantageusement utiliser un générateur de tableau comme : https://www.tablesgenerator.com/markdown_tables"
   ]
  },
  {
   "cell_type": "markdown",
   "metadata": {
    "slideshow": {
     "slide_type": "slide"
    }
   },
   "source": [
    "## Image :"
   ]
  },
  {
   "cell_type": "code",
   "execution_count": null,
   "metadata": {
    "slideshow": {
     "slide_type": "subslide"
    }
   },
   "outputs": [],
   "source": [
    "![Turing's Device](http://www.google.com/logos/2012/turing-doodle-static.jpg \"Alan Turing's 100th Birthday\")"
   ]
  },
  {
   "cell_type": "markdown",
   "metadata": {
    "slideshow": {
     "slide_type": "fragment"
    }
   },
   "source": [
    "> Pour afficher une image, il faut commencer par un point d’exclamation. Puis indiquer le texte alternatif entre crochets. Ce dernier sera affiché si l’image n’est pas chargée et lu par les moteurs de recherche. Terminer par l’URL de l’image entre parenthèses. Cette URL peut être un lien absolu vers le web ou un chemin relatif de ce type : /dossier_images/nom_de_mon_image.jpg. Après le lien vers l’image, il est possible d’ajouter un titre lu par les navigateurs textuels et affiché au survol de l’image par les autres."
   ]
  },
  {
   "cell_type": "markdown",
   "metadata": {
    "slideshow": {
     "slide_type": "subslide"
    }
   },
   "source": [
    "![Logo du Lycee Notre Dame Du Mur](https://ericecmorlaix.github.io/img/ECAM-Lycee-Notre-Dame-Du-Mur.png \"Logo du Lycee Notre Dame Du Mur de Morlaix\")"
   ]
  },
  {
   "cell_type": "markdown",
   "metadata": {
    "slideshow": {
     "slide_type": "fragment"
    }
   },
   "source": [
    "> **Remarque 1** :\n",
    ">\n",
    "> `https://ericecmorlaix.github.io` est un dépot GitHub qui contient toutes mes images publiées...\n",
    "\n",
    "\n",
    "> **Remarque 2** :\n",
    ">\n",
    "> Il n'est pas possible de gérer simplement la taille d'affichage d'une image en Markdown. Il faut soit dimensionner correctement l'image en amont, soit utiliser un code HTML adapté.\n",
    "\n",
    "\n",
    "Pour compléter concernant les images, il est aussi possible d’insérer une image dans une cellule Markdown par le menu ``Edit>Insert Image`` ou tout simplement en glissant/déposant le fichier image depuis votre explorateur vers la cellule Markdown du Notebook.\n",
    "\n",
    "La syntaxe générée automatiquement est alors de la forme ``![JupyterNoteBook.png](attachment:JupyterNoteBook.png)``\n",
    "\n",
    "Inutile d’ajouter le fichier image dans le dossier du Notebook car il lui est alors « attaché ».\n",
    "\n",
    "En ouvrant ce fichier ``.ipynb`` dans un éditeur de texte comme Sublime3, on obserse le code de l'image attachée dans le code :\n",
    "````json\n",
    "{\n",
    " \"cells\": [\n",
    "  {\n",
    "   \"attachments\": {\n",
    "    \"JupyterNoteBook.png\": {\n",
    "     \"image/png\": \"iVBORw0KGgoAAAANSUhEUgAAAyAAAAJYCAIAAAAVFBUnAAAAAXNSR0Img.................\"\n",
    "    }\n",
    "   },\n",
    "   \"cell_type\": \"markdown\",\n",
    "   \"metadata\": {},\n",
    "   \"source\": [\n",
    "    \"# Mémo concernant les images dans un Jupyter NoteBook :\\n\",\n",
    "    \"\\n\",\n",
    "    \"![JupyterNoteBook.png](attachment:JupyterNoteBook.png)\\n\"\n",
    "   ]\n",
    "  },````\n",
    "  \n",
    "  > **/!\\ ATTENTION** car la taille d'un carnet jupyter avec des images intégrées explose..."
   ]
  },
  {
   "cell_type": "code",
   "execution_count": null,
   "metadata": {},
   "outputs": [],
   "source": [
    "Insérer une image dans cette cellule..."
   ]
  },
  {
   "cell_type": "markdown",
   "metadata": {
    "slideshow": {
     "slide_type": "slide"
    }
   },
   "source": [
    "## Lien hypertexte :\n",
    "\n",
    "### Isolé :"
   ]
  },
  {
   "cell_type": "code",
   "execution_count": null,
   "metadata": {
    "slideshow": {
     "slide_type": "subslide"
    }
   },
   "outputs": [],
   "source": [
    "http://ecmorlaix.fr/"
   ]
  },
  {
   "cell_type": "markdown",
   "metadata": {},
   "source": [
    "### Inclu dans un paragraphe :"
   ]
  },
  {
   "cell_type": "code",
   "execution_count": null,
   "metadata": {
    "slideshow": {
     "slide_type": "fragment"
    }
   },
   "outputs": [],
   "source": [
    "Le portail de l'[ECA.M](http://ecmorlaix.fr/ \"Lien vers le portail des Etablissement Catholiques Associés de Morlaix\")"
   ]
  },
  {
   "cell_type": "markdown",
   "metadata": {},
   "source": [
    "### Sur une image :"
   ]
  },
  {
   "cell_type": "code",
   "execution_count": null,
   "metadata": {
    "slideshow": {
     "slide_type": "fragment"
    }
   },
   "outputs": [],
   "source": [
    "[![Logo de l'ECA.M](https://ericecmorlaix.github.io/img/ECAM-Logo.png)](http://ecmorlaix.fr/ \"Lien vers le portail des Etablissement Catholiques Associés de Morlaix\")"
   ]
  },
  {
   "cell_type": "markdown",
   "metadata": {
    "slideshow": {
     "slide_type": "subslide"
    }
   },
   "source": [
    "Il est également possible de faire des liens par références pour rendre le code Markdown plus lisible :"
   ]
  },
  {
   "cell_type": "code",
   "execution_count": null,
   "metadata": {
    "slideshow": {
     "slide_type": "-"
    }
   },
   "outputs": [],
   "source": [
    "Je reçoit 10 fois plus de trafic de [Google] [1] que de [Yahoo] [2] ou [MSN] [3].\n",
    "\n",
    "  [1]: http://google.com/        \"Google\"\n",
    "  [2]: http://search.yahoo.com/  \"Yahoo Search\"\n",
    "  [3]: http://search.msn.com/    \"MSN Search\""
   ]
  },
  {
   "cell_type": "markdown",
   "metadata": {
    "slideshow": {
     "slide_type": "slide"
    }
   },
   "source": [
    "# Code :"
   ]
  },
  {
   "cell_type": "markdown",
   "metadata": {
    "slideshow": {
     "slide_type": "subslide"
    }
   },
   "source": [
    "### Elément de code en ligne"
   ]
  },
  {
   "cell_type": "code",
   "execution_count": null,
   "metadata": {
    "slideshow": {
     "slide_type": "-"
    }
   },
   "outputs": [],
   "source": [
    "Texte avec un `élément de code`."
   ]
  },
  {
   "cell_type": "markdown",
   "metadata": {
    "slideshow": {
     "slide_type": "subslide"
    }
   },
   "source": [
    "### Bloc de code"
   ]
  },
  {
   "cell_type": "code",
   "execution_count": null,
   "metadata": {
    "slideshow": {
     "slide_type": "-"
    }
   },
   "outputs": [],
   "source": [
    "```python\n",
    "# Voici un bout de code en Python\n",
    "from numpy import *\n",
    "from numpy.random import *\n",
    "int(rint(rand()*5+1))\n",
    "```"
   ]
  },
  {
   "cell_type": "markdown",
   "metadata": {
    "slideshow": {
     "slide_type": "slide"
    }
   },
   "source": [
    "## Ressources :"
   ]
  },
  {
   "cell_type": "markdown",
   "metadata": {
    "slideshow": {
     "slide_type": "fragment"
    }
   },
   "source": [
    "* https://blog.wax-o.com/2014/04/tutoriel-un-guide-pour-bien-commencer-avec-markdown/\n",
    "* https://fr.wikipedia.org/wiki/Markdown\n",
    "* https://openclassrooms.com/courses/redigez-en-markdown\n",
    "* Traduction française de la syntaxe complète de Markdown : https://michelf.ca/projets/php-markdown/syntaxe/\n",
    "* Un éditeur de Markdown en ligne : https://stackedit.io/\n",
    "* Une extension de navigateur pour rédiger des mails : https://markdown-here.com/"
   ]
  },
  {
   "cell_type": "markdown",
   "metadata": {
    "slideshow": {
     "slide_type": "slide"
    }
   },
   "source": [
    "## A vous de jouer :"
   ]
  },
  {
   "cell_type": "markdown",
   "metadata": {
    "slideshow": {
     "slide_type": "fragment"
    }
   },
   "source": [
    "> <h3 class='fa fa-cogs' style=\"color: darkorange\"> A faire vous-même </h3>\n",
    ">\n",
    "> Saisir votre texte balisé en code Markdown dans la cellule suivante, jupyter affichera le résultat mis en forme automatiquement..."
   ]
  },
  {
   "cell_type": "code",
   "execution_count": null,
   "metadata": {
    "slideshow": {
     "slide_type": "-"
    }
   },
   "outputs": [],
   "source": []
  },
  {
   "cell_type": "markdown",
   "metadata": {
    "slideshow": {
     "slide_type": "slide"
    }
   },
   "source": [
    "***  \n",
    "\n",
    "> **Félicitations !** Vous êtes parvenu au bout des activités de ce bloc note.  \n",
    "> Vous êtes maintenant capable de rédiger en **Markdown** dans l'environnement interactif jupyter notebook.\n",
    "\n",
    "> Pour explorer plus avant d'autres fonctionnalités de jupyter notebook repassez par le [Sommaire](index.ipynb).\n",
    "\n",
    "***"
   ]
  },
  {
   "cell_type": "markdown",
   "metadata": {
    "slideshow": {
     "slide_type": "-"
    }
   },
   "source": [
    "<a rel=\"license\" href=\"http://creativecommons.org/licenses/by-sa/4.0/\"><img alt=\"Licence Creative Commons\" style=\"border-width:0\" src=\"https://i.creativecommons.org/l/by-sa/4.0/88x31.png\" /></a><br />Ce document est mis à disposition selon les termes de la <a rel=\"license\" href=\"http://creativecommons.org/licenses/by-sa/4.0/\">Licence Creative Commons Attribution -  Partage dans les Mêmes Conditions 4.0 International</a>.\n",
    "\n",
    "Pour toute question, suggestion ou commentaire : <a href=\"mailto:eric.madec@ecmorlaix.fr\">eric.madec@ecmorlaix.fr</a>"
   ]
  },
  {
   "cell_type": "code",
   "execution_count": null,
   "metadata": {},
   "outputs": [],
   "source": []
  }
 ],
 "metadata": {
  "hide_input": false,
  "kernelspec": {
   "display_name": "Python 3",
   "language": "python",
   "name": "python3"
  },
  "language_info": {
   "codemirror_mode": {
    "name": "ipython",
    "version": 3
   },
   "file_extension": ".py",
   "mimetype": "text/x-python",
   "name": "python",
   "nbconvert_exporter": "python",
   "pygments_lexer": "ipython3",
   "version": "3.7.3"
  },
  "toc": {
   "base_numbering": 1,
   "nav_menu": {},
   "number_sections": true,
   "sideBar": true,
   "skip_h1_title": false,
   "title_cell": "Table of Contents",
   "title_sidebar": "Contents",
   "toc_cell": false,
   "toc_position": {},
   "toc_section_display": true,
   "toc_window_display": false
  },
  "varInspector": {
   "cols": {
    "lenName": 16,
    "lenType": 16,
    "lenVar": 40
   },
   "kernels_config": {
    "python": {
     "delete_cmd_postfix": "",
     "delete_cmd_prefix": "del ",
     "library": "var_list.py",
     "varRefreshCmd": "print(var_dic_list())"
    },
    "r": {
     "delete_cmd_postfix": ") ",
     "delete_cmd_prefix": "rm(",
     "library": "var_list.r",
     "varRefreshCmd": "cat(var_dic_list()) "
    }
   },
   "types_to_exclude": [
    "module",
    "function",
    "builtin_function_or_method",
    "instance",
    "_Feature"
   ],
   "window_display": false
  }
 },
 "nbformat": 4,
 "nbformat_minor": 2
}
